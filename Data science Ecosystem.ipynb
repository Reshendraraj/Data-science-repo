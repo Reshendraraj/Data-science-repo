{
 "cells": [
  {
   "cell_type": "markdown",
   "id": "52e9c455-aab9-4712-8e4e-7e6c0f69973b",
   "metadata": {},
   "source": [
    "# Data Science Tools and Ecosystem"
   ]
  },
  {
   "cell_type": "markdown",
   "id": "f5976b8d-347d-44b4-8728-dd97c4456463",
   "metadata": {},
   "source": [
    "In this notebook, Data Science Tools and Ecosystem are summarized."
   ]
  },
  {
   "cell_type": "markdown",
   "id": "86e7892d-9c2b-46a6-a9e8-38436981370d",
   "metadata": {},
   "source": [
    "Some of the popular languages that Data Scientists use are:"
   ]
  },
  {
   "cell_type": "markdown",
   "id": "63396c3d-08b8-4ff7-8a5f-67d59d333cb0",
   "metadata": {},
   "source": [
    "In the field of data science, various programming languages are used for data analysis, machine learning, and visualization. Here are some of the most popular languages:\n",
    "\n",
    " **Python**: Widely used for its simplicity and extensive libraries (e.g., Pandas, NumPy, SciPy).\n",
    "- **R**: Known for statistical analysis and visualization; it has a rich ecosystem of packages.\n",
    "- **SQL**: Essential for database querying and manipulation.\n",
    "- **Java**: Used in big data technologies like Hadoop and for building production-level applications.\n",
    "- **Scala**: Often used with Apache Spark for big data processing.\n",
    "- **Julia**: Gaining popularity for numerical and scientific computing due to its high performance."
   ]
  },
  {
   "cell_type": "markdown",
   "id": "cd8cc9f4-197a-48e7-8659-9ba9868d5a32",
   "metadata": {},
   "source": [
    "# Some of the commonly used libraries used by Data Scientists include:"
   ]
  },
  {
   "cell_type": "markdown",
   "id": "eebd02e4-ccda-4578-86c5-934b35d6bd36",
   "metadata": {},
   "source": [
    "- **NumPy**: Fundamental package for numerical computing in Python, providing support for arrays and matrices.\n",
    "- **Pandas**: Essential for data manipulation and analysis, offering data structures like DataFrames.\n",
    "- **Matplotlib**: Widely used for creating static, animated, and interactive visualizations in Python.\n",
    "- **Seaborn**: Built on Matplotlib, it provides a high-level interface for drawing attractive statistical graphics.\n",
    "- **Scikit-learn**: A comprehensive library for machine learning in Python, offering tools for classification, regression, and clustering.\n",
    "- **TensorFlow**: An open-source framework for deep learning and machine learning, developed by Google.\n",
    "- **Keras**: A high-level neural networks API, written in Python, that runs on top of TensorFlow.\n",
    "- **Statsmodels**: Used for estimating and testing statistical models.\n"
   ]
  },
  {
   "cell_type": "markdown",
   "id": "7810c975-1861-4454-ad72-bd8e50144d2f",
   "metadata": {},
   "source": [
    "# Data science libraries"
   ]
  },
  {
   "cell_type": "markdown",
   "id": "4f07a5cc-8993-49b3-ad02-5a849edf031f",
   "metadata": {},
   "source": [
    "| Library Name | Description | Popular Uses |\n",
    "|---|---|---|\n",
    "| Pandas | Python data analysis library | Data manipulation, cleaning, and analysis |\n",
    "| NumPy | Python numerical computing library | Numerical operations, array manipulation, and linear algebra |\n",
    "| Matplotlib | Python plotting library | Data visualization, creating graphs and charts |\n",
    "| Seaborn | Python data visualization library | Statistical graphics, built on top of Matplotlib |\n",
    "| Scikit-learn | Python machine learning library | Machine learning algorithms, modeling, and evaluation |\n",
    "| TensorFlow | Open-source machine learning framework | Deep learning, neural networks, computer vision, natural language processing |\n",
    "| PyTorch | Open-source machine learning framework | Deep learning, natural language processing, computer vision |\n",
    "| Keras | High-level API for TensorFlow and Theano | Deep learning, neural networks, building and training models |\n",
    "| XGBoost | Gradient boosting machine learning algorithm | Regression, classification, and ranking tasks |\n",
    "| LightGBM | Gradient boosting machine learning algorithm | Regression, classification, and ranking tasks |"
   ]
  },
  {
   "cell_type": "markdown",
   "id": "2735a758-07f3-40b8-be06-e1629c15ce28",
   "metadata": {},
   "source": [
    "# Data Sceience Tools"
   ]
  },
  {
   "cell_type": "code",
   "execution_count": null,
   "id": "b9226c53-26e2-4876-b285-32a1d8736c7f",
   "metadata": {
    "tags": []
   },
   "outputs": [],
   "source": []
  },
  {
   "cell_type": "markdown",
   "id": "5054c025-67ed-4426-bd82-c71985f3f42c",
   "metadata": {},
   "source": [
    "\n",
    "| Tool               | Description                                      | Language/Platform       |\n",
    "|--------------------|--------------------------------------------------|--------------------------|\n",
    "| Jupyter Notebook    | An interactive computing environment for data science | Web-based (Python)       |\n",
    "| RStudio            | Integrated development environment for R        | R                        |\n",
    "| Apache Spark       | Open-source distributed computing system        | Scala, Java, Python      |\n",
    "| Tableau            | Data visualization software                      | Proprietary              |\n",
    "| Power BI           | Business analytics tool by Microsoft            | Proprietary              |\n",
    "| Git                | Version control system for tracking changes     | Various                  |\n",
    "| Docker             | Containerization platform for application deployment | Various                  |\n",
    "| Anaconda           | Distribution of Python and R for data science   | Python, R                |"
   ]
  },
  {
   "cell_type": "markdown",
   "id": "82973f55-4c34-4675-9227-52ae40bc5b4e",
   "metadata": {
    "tags": []
   },
   "source": [
    "### Below are a few examples of evaluating arithmetic expressions in Python"
   ]
  },
  {
   "cell_type": "code",
   "execution_count": 8,
   "id": "f3dd9638-c17a-498e-8186-6939c1e8003d",
   "metadata": {
    "tags": []
   },
   "outputs": [
    {
     "data": {
      "text/plain": [
       "17"
      ]
     },
     "execution_count": 8,
     "metadata": {},
     "output_type": "execute_result"
    }
   ],
   "source": [
    " #This a simple arithmetic expression to mutiply then add integers.\n",
    "\n",
    "(3*4)+5"
   ]
  },
  {
   "cell_type": "code",
   "execution_count": 10,
   "id": "925c2160-be4d-4a05-b8e7-8194ddaa4dd8",
   "metadata": {
    "tags": []
   },
   "outputs": [
    {
     "data": {
      "text/plain": [
       "3.3333333333333335"
      ]
     },
     "execution_count": 10,
     "metadata": {},
     "output_type": "execute_result"
    }
   ],
   "source": [
    "# This will convert 200 minutes to hours by diving by 60\n",
    "\n",
    "200/60"
   ]
  },
  {
   "cell_type": "markdown",
   "id": "04c648f4-23b9-48d3-9b7d-42c667391194",
   "metadata": {},
   "source": [
    "# In this notebook, we aim to achieve the following objectives:\n",
    "- List popular languages for Data Science.\n",
    "- Explore key libraries used in data analysis and machine learning.\n",
    "- Discuss essential tools for data visualization and processing.\n",
    "- Understand basic arithmetic operations and their applications.\n",
    "- Review practical examples and case studies in data science.\n"
   ]
  },
  {
   "cell_type": "markdown",
   "id": "98bb309b-83ae-4385-b72f-ed444b78c203",
   "metadata": {},
   "source": [
    "# Author"
   ]
  },
  {
   "cell_type": "markdown",
   "id": "c3ab5572-4db1-476d-9816-d3c23f83a9ca",
   "metadata": {},
   "source": [
    "**Reshendra Raj kondeboyina**"
   ]
  },
  {
   "cell_type": "code",
   "execution_count": null,
   "id": "ce8c2575-6d67-4681-807f-eb4f0d38c6bd",
   "metadata": {},
   "outputs": [],
   "source": []
  }
 ],
 "metadata": {
  "kernelspec": {
   "display_name": "Python",
   "language": "python",
   "name": "conda-env-python-py"
  },
  "language_info": {
   "codemirror_mode": {
    "name": "ipython",
    "version": 3
   },
   "file_extension": ".py",
   "mimetype": "text/x-python",
   "name": "python",
   "nbconvert_exporter": "python",
   "pygments_lexer": "ipython3",
   "version": "3.7.12"
  }
 },
 "nbformat": 4,
 "nbformat_minor": 5
}
